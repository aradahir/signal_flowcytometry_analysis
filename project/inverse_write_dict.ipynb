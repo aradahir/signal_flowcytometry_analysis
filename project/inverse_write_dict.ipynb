{
 "cells": [
  {
   "cell_type": "code",
   "execution_count": 30,
   "metadata": {},
   "outputs": [],
   "source": [
    "import pandas as pd\n",
    "from collections import Counter\n",
    "import numpy as np\n",
    "\n",
    "filename_u = 'Up_PY010.csv'\n",
    "filename_d = 'Down_PY010.csv'\n",
    "\n",
    "df_u =  pd.read_csv(filename_u);\n",
    "df_d =  pd.read_csv(filename_d);\n",
    "upgene= set(df_u['gene'])\n",
    "dngene= set('1_'+df_d['gene'])\n",
    "\n",
    "gene_b = []\n",
    "gene_b.append(upgene)\n",
    "gene_b.append(dngene)\n"
   ]
  },
  {
   "cell_type": "code",
   "execution_count": 2,
   "metadata": {},
   "outputs": [],
   "source": [
    "from bsonstream import KeyValueBSONInput\n",
    "import csv\n",
    "import bson \n",
    "import json\n",
    "from bson import ObjectId\n",
    "from string import punctuation\n",
    "\n",
    "def strip_punctuation(s):\n",
    "    return ''.join(c for c in s if c not in punctuation)\n",
    "\n",
    "with open('file\\cpcd-gse70138.bson', 'rb') as f:\n",
    "    with open('inverse_map.csv', 'w') as csvfile:\n",
    "        csv_columns = ['name', 'gene_map','gene_all','intersect','prob']\n",
    "        writer = csv.DictWriter(csvfile, fieldnames=csv_columns)\n",
    "        writer.writeheader()\n",
    "        stream = KeyValueBSONInput(fh=f)\n",
    "        for dict_data in stream:\n",
    "            del dict_data['_id']\n",
    "            #name of row in .csv\n",
    "            name = str(dict_data['batch'])+'_' +str(dict_data['pert_id'])+'_' +str(dict_data['pert_dose'])\n",
    "            gene_up = []\n",
    "            gene_all = []\n",
    "            gene_up_a = []\n",
    "            #get rid of file that does not contian a list of genes\n",
    "            if dict_data.get('upGenes') != None:\n",
    "                #comparing interested regulated gene set and file from .bson\n",
    "                for i in gene_b:\n",
    "                    for j in dict_data.get('upGenes'):\n",
    "                        gene_all.append(j)\n",
    "                        if i =='-1'+'_'+ j :\n",
    "                            gene_up.append('-1'+'_'+j)\n",
    "                    for y in dict_data.get('dnGenes'):\n",
    "                        gene_all.append(y)\n",
    "                        if i == y :\n",
    "                            gene_up.append(y)\n",
    "                    #gene_up_all.append\n",
    "                writer.writerow(dict({'name' : name,  'gene_map' : set(gene_up), 'gene_all' : set(gene_all), 'intersect': len( set(gene_up)),'prob': len( set(gene_up))/len( set(gene_all))}))"
   ]
  }
 ],
 "metadata": {
  "kernelspec": {
   "display_name": "Python 3",
   "language": "python",
   "name": "python3"
  },
  "language_info": {
   "codemirror_mode": {
    "name": "ipython",
    "version": 3
   },
   "file_extension": ".py",
   "mimetype": "text/x-python",
   "name": "python",
   "nbconvert_exporter": "python",
   "pygments_lexer": "ipython3",
   "version": "3.6.7"
  }
 },
 "nbformat": 4,
 "nbformat_minor": 2
}
