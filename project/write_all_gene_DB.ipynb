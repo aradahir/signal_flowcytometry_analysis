{
 "cells": [
  {
   "cell_type": "code",
   "execution_count": 2,
   "metadata": {},
   "outputs": [
    {
     "name": "stderr",
     "output_type": "stream",
     "text": [
      "C:\\Users\\Arada\\Miniconda\\lib\\site-packages\\ipykernel_launcher.py:18: DeprecationWarning: generator 'KeyValueBSONInput.reads' raised StopIteration\n"
     ]
    }
   ],
   "source": [
    "from bsonstream import KeyValueBSONInput\n",
    "import csv\n",
    "import bson \n",
    "import json\n",
    "from bson import ObjectId\n",
    "import numpy as np\n",
    "from string import punctuation\n",
    "\n",
    "def strip_punctuation(s):\n",
    "    return ''.join(c for c in s if c not in punctuation)\n",
    "\n",
    "with open('file\\cpcd-gse70138.bson', 'rb') as f:\n",
    "    with open('all_up_and_down_DB_without666.csv', 'w') as csvfile:\n",
    "        csv_columns = ['name', 'gene']\n",
    "        writer = csv.DictWriter(csvfile, fieldnames=csv_columns)\n",
    "        writer.writeheader()\n",
    "        stream = KeyValueBSONInput(fh=f)\n",
    "        for dict_data in stream:\n",
    "            del dict_data['_id']\n",
    "            #name of row in .csv\n",
    "            name = str(dict_data['batch'])+'_' +str(dict_data['pert_id'])+'_' +str(dict_data['pert_dose'])\n",
    "            gene_up = []\n",
    "            gene_dn = []\n",
    "            #get rid of file that does not contian a list of genes\n",
    "            if dict_data.get('upGenes') != None:\n",
    "                #comparing interested regulated gene set and file from .bson\n",
    "                for j in dict_data.get('upGenes'):\n",
    "                    if j != '-666':\n",
    "                        gene_up.append(j)\n",
    "                for y in dict_data.get('dnGenes'):\n",
    "                    if y != '-666':\n",
    "                        gene_up.append('-1_'+y)\n",
    "                writer.writerow(dict({'name' : name,  'gene' : set(gene_up)}))\n"
   ]
  }
 ],
 "metadata": {
  "kernelspec": {
   "display_name": "Python 3",
   "language": "python",
   "name": "python3"
  },
  "language_info": {
   "codemirror_mode": {
    "name": "ipython",
    "version": 3
   },
   "file_extension": ".py",
   "mimetype": "text/x-python",
   "name": "python",
   "nbconvert_exporter": "python",
   "pygments_lexer": "ipython3",
   "version": "3.6.7"
  }
 },
 "nbformat": 4,
 "nbformat_minor": 2
}
